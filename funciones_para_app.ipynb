{
 "cells": [
  {
   "attachments": {},
   "cell_type": "markdown",
   "metadata": {},
   "source": [
    "## FUNCIONES"
   ]
  },
  {
   "cell_type": "code",
   "execution_count": 130,
   "metadata": {},
   "outputs": [],
   "source": [
    "import pandas as pd"
   ]
  },
  {
   "cell_type": "code",
   "execution_count": 131,
   "metadata": {},
   "outputs": [],
   "source": [
    "plataformas_df = pd.read_csv('base_datos_completa_api.csv')"
   ]
  },
  {
   "cell_type": "code",
   "execution_count": 132,
   "metadata": {},
   "outputs": [
    {
     "data": {
      "text/html": [
       "<div>\n",
       "<style scoped>\n",
       "    .dataframe tbody tr th:only-of-type {\n",
       "        vertical-align: middle;\n",
       "    }\n",
       "\n",
       "    .dataframe tbody tr th {\n",
       "        vertical-align: top;\n",
       "    }\n",
       "\n",
       "    .dataframe thead th {\n",
       "        text-align: right;\n",
       "    }\n",
       "</style>\n",
       "<table border=\"1\" class=\"dataframe\">\n",
       "  <thead>\n",
       "    <tr style=\"text-align: right;\">\n",
       "      <th></th>\n",
       "      <th>show_id</th>\n",
       "      <th>type</th>\n",
       "      <th>title</th>\n",
       "      <th>director</th>\n",
       "      <th>cast</th>\n",
       "      <th>country</th>\n",
       "      <th>date_added</th>\n",
       "      <th>release_year</th>\n",
       "      <th>rating</th>\n",
       "      <th>duration</th>\n",
       "      <th>listed_in</th>\n",
       "      <th>description</th>\n",
       "      <th>id</th>\n",
       "      <th>duration_int</th>\n",
       "      <th>duration_type</th>\n",
       "      <th>score_mean</th>\n",
       "    </tr>\n",
       "  </thead>\n",
       "  <tbody>\n",
       "    <tr>\n",
       "      <th>0</th>\n",
       "      <td>s1</td>\n",
       "      <td>movie</td>\n",
       "      <td>the grand seduction</td>\n",
       "      <td>don mckellar</td>\n",
       "      <td>brendan gleeson, taylor kitsch, gordon pinsent</td>\n",
       "      <td>canada</td>\n",
       "      <td>2021-03-30</td>\n",
       "      <td>2014</td>\n",
       "      <td>g</td>\n",
       "      <td>113 min</td>\n",
       "      <td>comedy, drama</td>\n",
       "      <td>a small fishing village must procure a local d...</td>\n",
       "      <td>as1</td>\n",
       "      <td>113</td>\n",
       "      <td>min</td>\n",
       "      <td>3.47</td>\n",
       "    </tr>\n",
       "    <tr>\n",
       "      <th>1</th>\n",
       "      <td>s2</td>\n",
       "      <td>movie</td>\n",
       "      <td>take care good night</td>\n",
       "      <td>girish joshi</td>\n",
       "      <td>mahesh manjrekar, abhay mahajan, sachin khedekar</td>\n",
       "      <td>india</td>\n",
       "      <td>2021-03-30</td>\n",
       "      <td>2018</td>\n",
       "      <td>13+</td>\n",
       "      <td>110 min</td>\n",
       "      <td>drama, international</td>\n",
       "      <td>a metro family decides to fight a cyber crimin...</td>\n",
       "      <td>as2</td>\n",
       "      <td>110</td>\n",
       "      <td>min</td>\n",
       "      <td>3.55</td>\n",
       "    </tr>\n",
       "    <tr>\n",
       "      <th>2</th>\n",
       "      <td>s3</td>\n",
       "      <td>movie</td>\n",
       "      <td>secrets of deception</td>\n",
       "      <td>josh webber</td>\n",
       "      <td>tom sizemore, lorenzo lamas, robert lasardo, r...</td>\n",
       "      <td>united states</td>\n",
       "      <td>2021-03-30</td>\n",
       "      <td>2017</td>\n",
       "      <td>g</td>\n",
       "      <td>74 min</td>\n",
       "      <td>action, drama, suspense</td>\n",
       "      <td>after a man discovers his wife is cheating on ...</td>\n",
       "      <td>as3</td>\n",
       "      <td>74</td>\n",
       "      <td>min</td>\n",
       "      <td>3.50</td>\n",
       "    </tr>\n",
       "    <tr>\n",
       "      <th>3</th>\n",
       "      <td>s4</td>\n",
       "      <td>movie</td>\n",
       "      <td>pink: staying true</td>\n",
       "      <td>sonia anderson</td>\n",
       "      <td>interviews with: pink, adele, beyoncé, britney...</td>\n",
       "      <td>united states</td>\n",
       "      <td>2021-03-30</td>\n",
       "      <td>2014</td>\n",
       "      <td>g</td>\n",
       "      <td>69 min</td>\n",
       "      <td>documentary</td>\n",
       "      <td>pink breaks the mold once again, bringing her ...</td>\n",
       "      <td>as4</td>\n",
       "      <td>69</td>\n",
       "      <td>min</td>\n",
       "      <td>3.54</td>\n",
       "    </tr>\n",
       "    <tr>\n",
       "      <th>4</th>\n",
       "      <td>s5</td>\n",
       "      <td>movie</td>\n",
       "      <td>monster maker</td>\n",
       "      <td>giles foster</td>\n",
       "      <td>harry dean stanton, kieran o'brien, george cos...</td>\n",
       "      <td>united kingdom</td>\n",
       "      <td>2021-03-30</td>\n",
       "      <td>1989</td>\n",
       "      <td>g</td>\n",
       "      <td>45 min</td>\n",
       "      <td>drama, fantasy</td>\n",
       "      <td>teenage matt banting wants to work with a famo...</td>\n",
       "      <td>as5</td>\n",
       "      <td>45</td>\n",
       "      <td>min</td>\n",
       "      <td>3.48</td>\n",
       "    </tr>\n",
       "  </tbody>\n",
       "</table>\n",
       "</div>"
      ],
      "text/plain": [
       "  show_id   type                 title        director  \\\n",
       "0      s1  movie   the grand seduction    don mckellar   \n",
       "1      s2  movie  take care good night    girish joshi   \n",
       "2      s3  movie  secrets of deception     josh webber   \n",
       "3      s4  movie    pink: staying true  sonia anderson   \n",
       "4      s5  movie         monster maker    giles foster   \n",
       "\n",
       "                                                cast         country  \\\n",
       "0     brendan gleeson, taylor kitsch, gordon pinsent          canada   \n",
       "1   mahesh manjrekar, abhay mahajan, sachin khedekar           india   \n",
       "2  tom sizemore, lorenzo lamas, robert lasardo, r...   united states   \n",
       "3  interviews with: pink, adele, beyoncé, britney...   united states   \n",
       "4  harry dean stanton, kieran o'brien, george cos...  united kingdom   \n",
       "\n",
       "   date_added  release_year rating duration                listed_in  \\\n",
       "0  2021-03-30          2014      g  113 min            comedy, drama   \n",
       "1  2021-03-30          2018    13+  110 min     drama, international   \n",
       "2  2021-03-30          2017      g   74 min  action, drama, suspense   \n",
       "3  2021-03-30          2014      g   69 min              documentary   \n",
       "4  2021-03-30          1989      g   45 min           drama, fantasy   \n",
       "\n",
       "                                         description   id  duration_int  \\\n",
       "0  a small fishing village must procure a local d...  as1           113   \n",
       "1  a metro family decides to fight a cyber crimin...  as2           110   \n",
       "2  after a man discovers his wife is cheating on ...  as3            74   \n",
       "3  pink breaks the mold once again, bringing her ...  as4            69   \n",
       "4  teenage matt banting wants to work with a famo...  as5            45   \n",
       "\n",
       "  duration_type  score_mean  \n",
       "0           min        3.47  \n",
       "1           min        3.55  \n",
       "2           min        3.50  \n",
       "3           min        3.54  \n",
       "4           min        3.48  "
      ]
     },
     "execution_count": 132,
     "metadata": {},
     "output_type": "execute_result"
    }
   ],
   "source": [
    "plataformas_df.head()"
   ]
  },
  {
   "cell_type": "code",
   "execution_count": 133,
   "metadata": {},
   "outputs": [
    {
     "data": {
      "text/plain": [
       "3.34"
      ]
     },
     "execution_count": 133,
     "metadata": {},
     "output_type": "execute_result"
    }
   ],
   "source": [
    "plataformas_df[('score_mean')].min()"
   ]
  },
  {
   "cell_type": "code",
   "execution_count": 134,
   "metadata": {},
   "outputs": [
    {
     "data": {
      "text/plain": [
       "3.72"
      ]
     },
     "execution_count": 134,
     "metadata": {},
     "output_type": "execute_result"
    }
   ],
   "source": [
    "plataformas_df[('score_mean')].max()"
   ]
  },
  {
   "attachments": {},
   "cell_type": "markdown",
   "metadata": {},
   "source": [
    "# **CONSULTA1: GET_MAX_DURATION**"
   ]
  },
  {
   "attachments": {},
   "cell_type": "markdown",
   "metadata": {},
   "source": [
    "Consulta 1: Película con mayor duración con filtros opcionales de AÑO, PLATAFORMA Y TIPO DE DURACIÓN. (la función debe llamarse get_max_duration(year, platform, duration_type))"
   ]
  },
  {
   "cell_type": "code",
   "execution_count": 135,
   "metadata": {},
   "outputs": [],
   "source": [
    "def get_max_duration(anio, plataforma, duracion):\n",
    "    if plataforma == \"amazon\":\n",
    "            df1 = plataformas_df[(plataformas_df[\"type\"] == \"movie\") & (plataformas_df[\"release_year\"] == anio) & (plataformas_df[\"duration_type\"] == duracion) & (plataformas_df[\"id\"].str.findall(\"a\"))]\n",
    "    elif plataforma == \"disney\":\n",
    "            df1 = plataformas_df[(plataformas_df[\"type\"] == \"movie\") & (plataformas_df[\"release_year\"] == anio) & (plataformas_df[\"duration_type\"] == duracion) & (plataformas_df[\"id\"].str.findall(\"d\"))]\n",
    "    elif plataforma == \"hulu\":\n",
    "            df1 = plataformas_df[(plataformas_df[\"type\"] == \"movie\") & (plataformas_df[\"release_year\"] == anio) & (plataformas_df[\"duration_type\"] == duracion) & (plataformas_df[\"id\"].str.findall(\"h\"))]\n",
    "    elif plataforma == \"netflix\":\n",
    "            df1 = plataformas_df[(plataformas_df[\"type\"] == \"movie\") & (plataformas_df[\"release_year\"] == anio) & (plataformas_df[\"duration_type\"] == duracion) & (plataformas_df[\"id\"].str.findall(\"n\"))]\n",
    "    else:\n",
    "            print (\"Lo sentimos, no contamos con la base de datos de dicha plataforma\")\n",
    "    \n",
    "    df2 = df1[df1[\"duration_int\"] == (df1[\"duration_int\"].max())]\n",
    "    return f'Pelicula de {plataforma} con mayor duracion en {duracion} del anio {anio} es: {df2.iloc[0, 2]}'"
   ]
  },
  {
   "cell_type": "code",
   "execution_count": 136,
   "metadata": {},
   "outputs": [
    {
     "data": {
      "text/plain": [
       "'Pelicula de netflix con mayor duracion en min del anio 2015 es: the gospel of luke'"
      ]
     },
     "execution_count": 136,
     "metadata": {},
     "output_type": "execute_result"
    }
   ],
   "source": [
    "get_max_duration(2015, \"netflix\", \"min\")"
   ]
  },
  {
   "attachments": {},
   "cell_type": "markdown",
   "metadata": {},
   "source": [
    "##### LA URL PARA VER SI CORRE NUESTRO CÓDIGO SERÍA: http://127.0.0.1:8000/get_max_duration/?anio=2015&plataforma=netflix&duracion=min"
   ]
  },
  {
   "attachments": {},
   "cell_type": "markdown",
   "metadata": {},
   "source": [
    "# **CONSULTA2: GET_SCORE_COUNT**"
   ]
  },
  {
   "attachments": {},
   "cell_type": "markdown",
   "metadata": {},
   "source": [
    "Cantidad de películas por plataforma con un puntaje mayor a XX en determinado año (la función debe llamarse get_score_count(platform, scored, year))"
   ]
  },
  {
   "cell_type": "code",
   "execution_count": 151,
   "metadata": {},
   "outputs": [],
   "source": [
    "def get_score_count(platform, scored, year):\n",
    "    df5 = plataformas_df[(plataformas_df[\"score_mean\"] > scored ) & (plataformas_df[\"release_year\"] == year)]  #Filtro de busqueda por Score y Año\n",
    "    if platform == \"amazon\":\n",
    "        df_gsc = df5[(df5[\"type\"] == \"movie\") & (df5[\"id\"].str.findall(\"a\"))]   #------->>>>>> Generamos un dataframe general con filtros especificos segun busqueda\n",
    "    elif platform == \"disney\":\n",
    "        df_gsc = df5[(df5[\"type\"] == \"movie\") & (df5[\"id\"].str.findall(\"d\"))]                \n",
    "    elif platform == \"hulu\":\n",
    "        df_gsc = df5[(df5[\"type\"] == \"movie\") & (df5[\"id\"].str.findall(\"h\"))]\n",
    "    elif platform == \"netflix\":\n",
    "        df_gsc = df5[(df5[\"type\"] == \"movie\") & (df5[\"id\"].str.findall(\"n\"))]\n",
    "    else:\n",
    "        print(\"Try again\")\n",
    "\n",
    "    return print(\"Peliculas de\", platform, \"del año\", year, \"con puntaje mayor en score a\", scored, \"es:\", df_gsc.shape[0])"
   ]
  },
  {
   "cell_type": "code",
   "execution_count": 154,
   "metadata": {},
   "outputs": [
    {
     "name": "stdout",
     "output_type": "stream",
     "text": [
      "Peliculas de netflix del año 2014 con puntaje mayor en score a 3 es: 264\n"
     ]
    }
   ],
   "source": [
    "get_score_count(\"netflix\", 3, 2014)"
   ]
  },
  {
   "attachments": {},
   "cell_type": "markdown",
   "metadata": {},
   "source": [
    "##### LA URL PARA VER SI CORRE NUESTRO CÓDIGO SERÍA: http://127.0.0.1:8000/get_score_count/?platform=netflix&scored=3&year=2014"
   ]
  },
  {
   "attachments": {},
   "cell_type": "markdown",
   "metadata": {},
   "source": [
    "# **CONSULTA3: GET_COUNT_PLATFORM**"
   ]
  },
  {
   "attachments": {},
   "cell_type": "markdown",
   "metadata": {},
   "source": [
    "Cantidad de películas por plataforma con filtro de PLATAFORMA. (La función debe llamarse get_count_platform(platform))"
   ]
  },
  {
   "cell_type": "code",
   "execution_count": 163,
   "metadata": {},
   "outputs": [],
   "source": [
    "def get_count_platform(platform):\n",
    "    if platform == \"amazon\":\n",
    "       df1 = plataformas_df[(plataformas_df[\"type\"] == \"movie\") & (plataformas_df[\"id\"].str.contains(\"a\"))]\n",
    "    elif platform == \"disney\":\n",
    "       df1 = plataformas_df[(plataformas_df[\"type\"] == \"movie\") & (plataformas_df[\"id\"].str.contains(\"d\"))]\n",
    "    elif platform == \"hulu\":\n",
    "       df1 = plataformas_df[(plataformas_df[\"type\"] == \"movie\") & (plataformas_df[\"id\"].str.contains(\"h\"))]\n",
    "    elif platform == \"netflix\":\n",
    "       df1 = plataformas_df[(plataformas_df[\"type\"] == \"movie\" ) & (plataformas_df[\"id\"].str.contains(\"n\"))]\n",
    "    else:\n",
    "        print(\"No contamos con esta plataforma\")\n",
    "    df2 = len(df1)\n",
    "    return f'La cantidad de películas de la paltaforma {platform} es {df2}' \n",
    "\n",
    "#df_movies = plataformas_df[plataformas_df[\"type\"] == \"movie\"]\n",
    "#count_a_movies = len(df_movies[df_movies[\"id\"].str.startswith(\"d\")])\n",
    "#print(count_a_movies)"
   ]
  },
  {
   "cell_type": "code",
   "execution_count": 164,
   "metadata": {},
   "outputs": [
    {
     "data": {
      "text/plain": [
       "'La cantidad de películas de la paltaforma disney es 1052'"
      ]
     },
     "execution_count": 164,
     "metadata": {},
     "output_type": "execute_result"
    }
   ],
   "source": [
    "get_count_platform(\"disney\")"
   ]
  },
  {
   "attachments": {},
   "cell_type": "markdown",
   "metadata": {},
   "source": [
    "##### LA URL PARA VER SI CORRE NUESTRO CÓDIGO SERÍA: http://127.0.0.1:8000/get_count_platform/?platform=disney"
   ]
  },
  {
   "attachments": {},
   "cell_type": "markdown",
   "metadata": {},
   "source": [
    "# **CONSULTA4: GET_ACTOR**"
   ]
  },
  {
   "attachments": {},
   "cell_type": "markdown",
   "metadata": {},
   "source": [
    "Actor que más se repite según plataforma y año. (La función debe llamarse get_actor(platform, year))"
   ]
  },
  {
   "cell_type": "code",
   "execution_count": 197,
   "metadata": {},
   "outputs": [],
   "source": [
    "def get_actor(platform:str, year:int):\n",
    "    if platform == \"amazon\":\n",
    "       df1 = plataformas_df[(plataformas_df[\"release_year\"] == year) & (plataformas_df[\"id\"].str.contains(\"a\"))]\n",
    "    elif platform == \"disney\":\n",
    "       df1 = plataformas_df[(plataformas_df[\"release_year\"] == year) & (plataformas_df[\"id\"].str.contains(\"d\"))]\n",
    "    elif platform == \"hulu\":\n",
    "       df1 = plataformas_df[(plataformas_df[\"release_year\"] == year) & (plataformas_df[\"id\"].str.contains(\"h\"))]\n",
    "    elif platform == \"netflix\":\n",
    "       df1 = plataformas_df[(plataformas_df[\"release_year\"] == year ) & (plataformas_df[\"id\"].str.contains(\"n\"))]\n",
    "    else:\n",
    "        print(\"No contamos con esta plataforma\")\n",
    "        return\n",
    "\n",
    "    if df1[\"cast\"].isna().all():\n",
    "        return \"No hay información de actores para la plataforma y año seleccionados\"\n",
    "\n",
    "    actors = df1[\"cast\"].str.split(\",\", expand=True).stack().str.strip().reset_index(level=1, drop=True)\n",
    "    top_actor = actors.value_counts().index[0]\n",
    "    return f'El actor que más aparece en la plataforma {platform} y en el año {year} es {top_actor}'"
   ]
  },
  {
   "cell_type": "code",
   "execution_count": 198,
   "metadata": {},
   "outputs": [
    {
     "data": {
      "text/plain": [
       "'El actor que más aparece en la plataforma amazon y en el año 2012 es danny trejo'"
      ]
     },
     "execution_count": 198,
     "metadata": {},
     "output_type": "execute_result"
    }
   ],
   "source": [
    "get_actor(\"amazon\",2012)"
   ]
  },
  {
   "attachments": {},
   "cell_type": "markdown",
   "metadata": {},
   "source": [
    "##### LA URL PARA VER SI CORRE NUESTRO CÓDIGO SERÍA: http://127.0.0.1:8000/get_actor/?platform=amazon&year=2012"
   ]
  },
  {
   "attachments": {},
   "cell_type": "markdown",
   "metadata": {},
   "source": [
    "# **URL FasAPI para realización de consultas**"
   ]
  },
  {
   "attachments": {},
   "cell_type": "markdown",
   "metadata": {},
   "source": [
    "## http://127.0.0.1:8000/docs"
   ]
  }
 ],
 "metadata": {
  "kernelspec": {
   "display_name": "Python 3",
   "language": "python",
   "name": "python3"
  },
  "language_info": {
   "codemirror_mode": {
    "name": "ipython",
    "version": 3
   },
   "file_extension": ".py",
   "mimetype": "text/x-python",
   "name": "python",
   "nbconvert_exporter": "python",
   "pygments_lexer": "ipython3",
   "version": "-1.-1.-1"
  },
  "orig_nbformat": 4
 },
 "nbformat": 4,
 "nbformat_minor": 2
}
